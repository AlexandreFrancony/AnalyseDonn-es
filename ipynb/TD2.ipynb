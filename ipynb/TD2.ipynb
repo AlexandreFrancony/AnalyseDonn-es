{
 "cells": [
  {
   "cell_type": "markdown",
   "metadata": {},
   "source": [
    "# TD1\n",
    "## Analyse de données\n",
    "### Alexandre Fracony"
   ]
  },
  {
   "cell_type": "markdown",
   "metadata": {},
   "source": [
    "1. Calculer la moyenne et l’écart type de chacune des deux variables. Que remarquer \n",
    "vous ? "
   ]
  },
  {
   "cell_type": "code",
   "execution_count": 1,
   "metadata": {},
   "outputs": [
    {
     "name": "stdout",
     "output_type": "stream",
     "text": [
      "Moyenne de X: 4.0, Écart type de X: 1.224744871391589\n",
      "Moyenne de Y: 40.0, Écart type de Y: 15.890248582070704\n"
     ]
    }
   ],
   "source": [
    "import numpy as np\n",
    "\n",
    "# Data\n",
    "X = np.array([3, 3, 4, 6])\n",
    "Y = np.array([21, 32, 43, 64])\n",
    "\n",
    "# Calculate mean\n",
    "mean_X = np.mean(X)\n",
    "mean_Y = np.mean(Y)\n",
    "\n",
    "# Calculate standard deviation\n",
    "std_X = np.std(X)\n",
    "std_Y = np.std(Y)\n",
    "\n",
    "print(f\"Moyenne de X: {mean_X}, Écart type de X: {std_X}\")\n",
    "print(f\"Moyenne de Y: {mean_Y}, Écart type de Y: {std_Y}\")"
   ]
  },
  {
   "cell_type": "code",
   "execution_count": 2,
   "metadata": {},
   "outputs": [
    {
     "name": "stdout",
     "output_type": "stream",
     "text": [
      "X standardisé: [-0.81649658 -0.81649658  0.          1.63299316]\n",
      "Y standardisé: [-1.19570187 -0.50345342  0.18879503  1.51036026]\n"
     ]
    }
   ],
   "source": [
    "# Standardize X\n",
    "X_std = (X - mean_X) / std_X\n",
    "\n",
    "# Standardize Y\n",
    "Y_std = (Y - mean_Y) / std_Y\n",
    "\n",
    "print(f\"X standardisé: {X_std}\")\n",
    "print(f\"Y standardisé: {Y_std}\")"
   ]
  }
 ],
 "metadata": {
  "kernelspec": {
   "display_name": "Python 3",
   "language": "python",
   "name": "python3"
  },
  "language_info": {
   "codemirror_mode": {
    "name": "ipython",
    "version": 3
   },
   "file_extension": ".py",
   "mimetype": "text/x-python",
   "name": "python",
   "nbconvert_exporter": "python",
   "pygments_lexer": "ipython3",
   "version": "3.12.0"
  }
 },
 "nbformat": 4,
 "nbformat_minor": 2
}
